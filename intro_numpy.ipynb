{
 "cells": [
  {
   "attachments": {},
   "cell_type": "markdown",
   "id": "7f14309d-cbad-42eb-a580-b000fae13726",
   "metadata": {},
   "source": [
    "# 使用串列與元組建立一維陣列"
   ]
  },
  {
   "cell_type": "code",
   "execution_count": 4,
   "id": "a48a299c-dfce-4333-95ab-e6dc8871e4ac",
   "metadata": {},
   "outputs": [],
   "source": [
    "import numpy as np"
   ]
  },
  {
   "cell_type": "code",
   "execution_count": 15,
   "id": "0126d676-b2ff-408c-a34d-9007efeeba5e",
   "metadata": {},
   "outputs": [],
   "source": [
    "ls_a = [1, 2, 3, 4, 5]\n",
    "a = np.array(ls_a) \n",
    "tp_b = (1, 2, 3, 4, 5)\n",
    "b = np.array(tp_b) "
   ]
  },
  {
   "cell_type": "code",
   "execution_count": 17,
   "id": "fc9c98d7-50eb-4fa7-a6f6-a28ca0f1a5cc",
   "metadata": {},
   "outputs": [
    {
     "data": {
      "text/plain": [
       "array([1, 2, 3, 4, 5])"
      ]
     },
     "execution_count": 17,
     "metadata": {},
     "output_type": "execute_result"
    }
   ],
   "source": [
    "a"
   ]
  },
  {
   "cell_type": "code",
   "execution_count": 19,
   "id": "79d3b93d-e1ed-477e-a936-03e8bf9b270a",
   "metadata": {},
   "outputs": [
    {
     "data": {
      "text/plain": [
       "numpy.ndarray"
      ]
     },
     "execution_count": 19,
     "metadata": {},
     "output_type": "execute_result"
    }
   ],
   "source": [
    "type(a)"
   ]
  },
  {
   "cell_type": "code",
   "execution_count": 21,
   "id": "5fe98cdf-65c7-467b-b568-678a4c5b0dad",
   "metadata": {},
   "outputs": [
    {
     "data": {
      "text/plain": [
       "1"
      ]
     },
     "execution_count": 21,
     "metadata": {},
     "output_type": "execute_result"
    }
   ],
   "source": [
    "a[0]"
   ]
  },
  {
   "cell_type": "code",
   "execution_count": 23,
   "id": "b714f63d-161b-461b-b89f-0d29062a6be5",
   "metadata": {},
   "outputs": [],
   "source": [
    "a[2] = 10\n"
   ]
  },
  {
   "cell_type": "code",
   "execution_count": 25,
   "id": "b938f39a-c7ce-48fb-8e21-8b5e0fcfb98a",
   "metadata": {},
   "outputs": [
    {
     "data": {
      "text/plain": [
       "array([ 1,  2, 10,  4,  5])"
      ]
     },
     "execution_count": 25,
     "metadata": {},
     "output_type": "execute_result"
    }
   ],
   "source": [
    "a"
   ]
  },
  {
   "attachments": {},
   "cell_type": "markdown",
   "id": "3fa13980-02c1-4bc5-ac30-b3c10e761cdc",
   "metadata": {},
   "source": [
    "# 使用使用串列建立二維陣列"
   ]
  },
  {
   "cell_type": "code",
   "execution_count": 12,
   "id": "22e8ced7-b99d-42eb-9f06-fe1f7669faa8",
   "metadata": {},
   "outputs": [],
   "source": [
    "ls_a = [[1,2,3],[4,5,6]]\n",
    "a = np.array(ls_a)\n"
   ]
  },
  {
   "cell_type": "code",
   "execution_count": 22,
   "id": "c59d0f2f-1772-4182-b556-c6f414029b4b",
   "metadata": {},
   "outputs": [
    {
     "data": {
      "text/plain": [
       "6"
      ]
     },
     "execution_count": 22,
     "metadata": {},
     "output_type": "execute_result"
    }
   ],
   "source": [
    "a[1, 2] # numpy indexing"
   ]
  },
  {
   "cell_type": "code",
   "execution_count": 24,
   "id": "7853c557-a0af-44bf-ab0d-5bdf1399dc76",
   "metadata": {},
   "outputs": [
    {
     "data": {
      "text/plain": [
       "6"
      ]
     },
     "execution_count": 24,
     "metadata": {},
     "output_type": "execute_result"
    }
   ],
   "source": [
    "a[1][2] # numpy indexing"
   ]
  },
  {
   "cell_type": "code",
   "execution_count": 26,
   "id": "3ebb88d5-830a-41ea-ae9e-31a89eb48034",
   "metadata": {},
   "outputs": [
    {
     "data": {
      "text/plain": [
       "6"
      ]
     },
     "execution_count": 26,
     "metadata": {},
     "output_type": "execute_result"
    }
   ],
   "source": [
    "ls_a[1][2]"
   ]
  },
  {
   "cell_type": "code",
   "execution_count": 28,
   "id": "5994f5fc-cacf-4311-9b77-6341bbcafa5b",
   "metadata": {},
   "outputs": [
    {
     "data": {
      "text/plain": [
       "dtype('int32')"
      ]
     },
     "execution_count": 28,
     "metadata": {},
     "output_type": "execute_result"
    }
   ],
   "source": [
    "a.dtype"
   ]
  },
  {
   "attachments": {},
   "cell_type": "markdown",
   "id": "69fb7b2a-ad1f-4d0e-90b0-212c6e25cf60",
   "metadata": {},
   "source": [
    "# 建立指定元素型態的陣列"
   ]
  },
  {
   "cell_type": "code",
   "execution_count": 78,
   "id": "d1c19582-82b5-4912-a615-5ee7a734bfa9",
   "metadata": {},
   "outputs": [],
   "source": [
    "a = np.array([1, 2, 3, 4, 5], int) \n",
    "b = np.array((1, 2, 3, 4, 5), dtype=float) \n"
   ]
  },
  {
   "attachments": {},
   "cell_type": "markdown",
   "id": "73cb901a-080a-4dc5-b9c9-ae9bed9b1a29",
   "metadata": {},
   "source": [
    "# NumPy更多陣列建立函數"
   ]
  },
  {
   "cell_type": "code",
   "execution_count": 86,
   "id": "6cc5b1bc-f910-4ce9-99b0-0774e8668122",
   "metadata": {},
   "outputs": [
    {
     "data": {
      "text/plain": [
       "array([0, 1, 2, 3, 4])"
      ]
     },
     "execution_count": 86,
     "metadata": {},
     "output_type": "execute_result"
    }
   ],
   "source": [
    "a = np.arange(5)\n",
    "a"
   ]
  },
  {
   "cell_type": "code",
   "execution_count": 82,
   "id": "2292009c-bdaf-4ab4-9be8-dc3729168444",
   "metadata": {},
   "outputs": [
    {
     "data": {
      "text/plain": [
       "array([1, 3, 5])"
      ]
     },
     "execution_count": 82,
     "metadata": {},
     "output_type": "execute_result"
    }
   ],
   "source": [
    "b = np.arange(1, 6, 2)\n",
    "b"
   ]
  },
  {
   "cell_type": "code",
   "execution_count": 36,
   "id": "2770153a-8df8-49f5-a52e-f46205858f8b",
   "metadata": {},
   "outputs": [
    {
     "data": {
      "text/plain": [
       "array([0., 0.])"
      ]
     },
     "execution_count": 36,
     "metadata": {},
     "output_type": "execute_result"
    }
   ],
   "source": [
    "c = np.zeros(2) \n",
    "c"
   ]
  },
  {
   "cell_type": "code",
   "execution_count": 40,
   "id": "add68607-598f-4d65-accb-fa9b15c0021a",
   "metadata": {},
   "outputs": [
    {
     "data": {
      "text/plain": [
       "array([[0., 0.],\n",
       "       [0., 0.],\n",
       "       [0., 0.]])"
      ]
     },
     "execution_count": 40,
     "metadata": {},
     "output_type": "execute_result"
    }
   ],
   "source": [
    "d = np.zeros((3,2)) \n",
    "d"
   ]
  },
  {
   "cell_type": "code",
   "execution_count": 46,
   "id": "92f9d6f3-cb73-4ec3-8897-db155df5593e",
   "metadata": {},
   "outputs": [
    {
     "data": {
      "text/plain": [
       "array([[[0.],\n",
       "        [0.]],\n",
       "\n",
       "       [[0.],\n",
       "        [0.]],\n",
       "\n",
       "       [[0.],\n",
       "        [0.]]])"
      ]
     },
     "execution_count": 46,
     "metadata": {},
     "output_type": "execute_result"
    }
   ],
   "source": [
    "e = np.zeros((3,2, 1)) \n",
    "e"
   ]
  },
  {
   "cell_type": "code",
   "execution_count": 44,
   "id": "48ddbc74-6c2f-4603-9ab3-170bd1815e91",
   "metadata": {},
   "outputs": [
    {
     "data": {
      "text/plain": [
       "array([[[[0., 0., 0.],\n",
       "         [0., 0., 0.]],\n",
       "\n",
       "        [[0., 0., 0.],\n",
       "         [0., 0., 0.]]],\n",
       "\n",
       "\n",
       "       [[[0., 0., 0.],\n",
       "         [0., 0., 0.]],\n",
       "\n",
       "        [[0., 0., 0.],\n",
       "         [0., 0., 0.]]],\n",
       "\n",
       "\n",
       "       [[[0., 0., 0.],\n",
       "         [0., 0., 0.]],\n",
       "\n",
       "        [[0., 0., 0.],\n",
       "         [0., 0., 0.]]]])"
      ]
     },
     "execution_count": 44,
     "metadata": {},
     "output_type": "execute_result"
    }
   ],
   "source": [
    "f = np.zeros((3,2, 2, 3)) \n",
    "f"
   ]
  },
  {
   "cell_type": "code",
   "execution_count": 48,
   "id": "0a0de064-8e87-4ac9-bd15-7228b7acdff6",
   "metadata": {},
   "outputs": [
    {
     "data": {
      "text/plain": [
       "array([7, 7])"
      ]
     },
     "execution_count": 48,
     "metadata": {},
     "output_type": "execute_result"
    }
   ],
   "source": [
    "g = np.full(2, 7)\n",
    "g"
   ]
  },
  {
   "cell_type": "code",
   "execution_count": 50,
   "id": "d43775ed-0233-4f6a-af79-35b38f79e7f6",
   "metadata": {},
   "outputs": [
    {
     "data": {
      "text/plain": [
       "array([[7, 7],\n",
       "       [7, 7]])"
      ]
     },
     "execution_count": 50,
     "metadata": {},
     "output_type": "execute_result"
    }
   ],
   "source": [
    "h = np.full((2,2), 7)\n",
    "h"
   ]
  },
  {
   "cell_type": "code",
   "execution_count": 64,
   "id": "eca2aad1-07c4-48b4-a2d7-80d8c0a01aec",
   "metadata": {},
   "outputs": [
    {
     "data": {
      "text/plain": [
       "array([[1., 0., 0., 0., 0.],\n",
       "       [0., 1., 0., 0., 0.],\n",
       "       [0., 0., 1., 0., 0.],\n",
       "       [0., 0., 0., 1., 0.],\n",
       "       [0., 0., 0., 0., 1.],\n",
       "       [0., 0., 0., 0., 0.]])"
      ]
     },
     "execution_count": 64,
     "metadata": {},
     "output_type": "execute_result"
    }
   ],
   "source": [
    "d = np.eye(6, 5)  \n",
    "d"
   ]
  },
  {
   "cell_type": "code",
   "execution_count": 60,
   "id": "e4686694-86ca-48b3-b89c-88cad9d1fa5a",
   "metadata": {},
   "outputs": [
    {
     "data": {
      "text/plain": [
       "array([[0., 0., 0.],\n",
       "       [1., 0., 0.],\n",
       "       [0., 1., 0.]])"
      ]
     },
     "execution_count": 60,
     "metadata": {},
     "output_type": "execute_result"
    }
   ],
   "source": [
    "e = np.eye(3, k=-1)\n",
    "e"
   ]
  },
  {
   "cell_type": "code",
   "execution_count": 66,
   "id": "4a30da8c-d14b-47da-94dc-96ce022c93be",
   "metadata": {},
   "outputs": [
    {
     "data": {
      "text/plain": [
       "array([0.06313611, 0.01680817, 0.30068841])"
      ]
     },
     "execution_count": 66,
     "metadata": {},
     "output_type": "execute_result"
    }
   ],
   "source": [
    "f = np.random.rand(3)\n",
    "f"
   ]
  },
  {
   "cell_type": "code",
   "execution_count": 72,
   "id": "39a54b0c-ecb4-40c6-b805-a5ff75962d64",
   "metadata": {},
   "outputs": [
    {
     "data": {
      "text/plain": [
       "array([[[0.11649159, 0.21178527, 0.81497153],\n",
       "        [0.49493241, 0.73937294, 0.84706195],\n",
       "        [0.68942486, 0.16057227, 0.55399967]],\n",
       "\n",
       "       [[0.22730177, 0.94906527, 0.79094412],\n",
       "        [0.19957107, 0.95582625, 0.04016599],\n",
       "        [0.37720472, 0.99840497, 0.83880572]],\n",
       "\n",
       "       [[0.9617237 , 0.49968249, 0.3866618 ],\n",
       "        [0.2253963 , 0.84774814, 0.84290513],\n",
       "        [0.29225584, 0.77813242, 0.14244573]]])"
      ]
     },
     "execution_count": 72,
     "metadata": {},
     "output_type": "execute_result"
    }
   ],
   "source": [
    "g = np.random.rand(3,3, 3)\n",
    "g"
   ]
  },
  {
   "cell_type": "markdown",
   "id": "3cc49831-d12a-4fe6-baeb-ccdd71df1e22",
   "metadata": {},
   "source": [
    "# 陣列維度的轉換"
   ]
  },
  {
   "cell_type": "code",
   "execution_count": 90,
   "id": "f65cc133-767b-4e7a-8a7a-dfb51ed9c341",
   "metadata": {},
   "outputs": [
    {
     "data": {
      "text/plain": [
       "array([[ 0,  1,  2,  3],\n",
       "       [ 4,  5,  6,  7],\n",
       "       [ 8,  9, 10, 11],\n",
       "       [12, 13, 14, 15]])"
      ]
     },
     "execution_count": 90,
     "metadata": {},
     "output_type": "execute_result"
    }
   ],
   "source": [
    "a = np.arange(16)\n",
    "b = a.reshape((4, 4))\n",
    "b"
   ]
  },
  {
   "cell_type": "code",
   "execution_count": 100,
   "id": "f31995ad-16e8-4b95-8162-d4ec4b0f0e6e",
   "metadata": {},
   "outputs": [
    {
     "data": {
      "text/plain": [
       "array([[ 0,  1,  2,  3,  4,  5,  6,  7],\n",
       "       [ 8,  9, 10, 11, 12, 13, 14, 15]])"
      ]
     },
     "execution_count": 100,
     "metadata": {},
     "output_type": "execute_result"
    }
   ],
   "source": [
    "c = a.reshape((2, 8))\n",
    "c"
   ]
  },
  {
   "cell_type": "code",
   "execution_count": 102,
   "id": "d8f8d3c8-ffcd-47bc-ac52-237dc03e9e9c",
   "metadata": {},
   "outputs": [
    {
     "data": {
      "text/plain": [
       "array([[ 0,  1,  2,  3],\n",
       "       [ 4,  5,  6,  7],\n",
       "       [ 8,  9, 10, 11],\n",
       "       [12, 13, 14, 15]])"
      ]
     },
     "execution_count": 102,
     "metadata": {},
     "output_type": "execute_result"
    }
   ],
   "source": [
    "d = c.reshape(4, 4)\n",
    "d"
   ]
  },
  {
   "cell_type": "code",
   "execution_count": 110,
   "id": "bbcaa524-c188-4cf3-ae07-a9f23ace9026",
   "metadata": {},
   "outputs": [
    {
     "data": {
      "text/plain": [
       "array([[ 0,  1],\n",
       "       [ 2,  3],\n",
       "       [ 4,  5],\n",
       "       [ 6,  7],\n",
       "       [ 8,  9],\n",
       "       [10, 11],\n",
       "       [12, 13],\n",
       "       [14, 15]])"
      ]
     },
     "execution_count": 110,
     "metadata": {},
     "output_type": "execute_result"
    }
   ],
   "source": [
    "c = np.reshape(a, (8, 2))\n",
    "c"
   ]
  },
  {
   "cell_type": "code",
   "execution_count": 120,
   "id": "95669bf5-e904-41e8-a4ae-24d6dbda4bb5",
   "metadata": {},
   "outputs": [
    {
     "data": {
      "text/plain": [
       "array([ 0,  1,  2,  3,  4,  5,  6,  7,  8,  9, 10, 11, 12, 13, 14, 15])"
      ]
     },
     "execution_count": 120,
     "metadata": {},
     "output_type": "execute_result"
    }
   ],
   "source": [
    "c.reshape(16)"
   ]
  },
  {
   "cell_type": "code",
   "execution_count": 126,
   "id": "0235ed40-1419-41ac-b505-e4054786d76f",
   "metadata": {},
   "outputs": [
    {
     "data": {
      "text/plain": [
       "array([[ 0],\n",
       "       [ 1],\n",
       "       [ 2],\n",
       "       [ 3],\n",
       "       [ 4],\n",
       "       [ 5],\n",
       "       [ 6],\n",
       "       [ 7],\n",
       "       [ 8],\n",
       "       [ 9],\n",
       "       [10],\n",
       "       [11],\n",
       "       [12],\n",
       "       [13],\n",
       "       [14],\n",
       "       [15]])"
      ]
     },
     "execution_count": 126,
     "metadata": {},
     "output_type": "execute_result"
    }
   ],
   "source": [
    "c.reshape((16, 1))"
   ]
  },
  {
   "cell_type": "code",
   "execution_count": null,
   "id": "f40cc1f4-2fa8-4a8b-89e5-b6fa13db8252",
   "metadata": {},
   "outputs": [],
   "source": [
    "np.squeeze(c.reshape((16, 1)), 1)"
   ]
  },
  {
   "attachments": {},
   "cell_type": "markdown",
   "id": "c42e71ab-1dd1-45c4-85bc-74044c5a3344",
   "metadata": {},
   "source": [
    "# 顯示NumPy陣列的屬性"
   ]
  },
  {
   "cell_type": "code",
   "execution_count": 155,
   "id": "2020981b-0f15-4c97-8cb8-016cdb52fa98",
   "metadata": {},
   "outputs": [],
   "source": [
    "a = np.array([[11, 12, 13, 14, 15],\n",
    "              [16, 17, 18, 19, 20],\n",
    "              [21, 22, 23, 24, 25],\n",
    "              [26, 27, 28 ,29, 30],\n",
    "              [31, 32, 33, 34, 35]])\n",
    " "
   ]
  },
  {
   "cell_type": "code",
   "execution_count": 130,
   "id": "9a3cb430-ea26-4023-80af-453547750e3e",
   "metadata": {},
   "outputs": [
    {
     "data": {
      "text/plain": [
       "dtype('int32')"
      ]
     },
     "execution_count": 130,
     "metadata": {},
     "output_type": "execute_result"
    }
   ],
   "source": [
    "a.dtype"
   ]
  },
  {
   "cell_type": "code",
   "execution_count": 132,
   "id": "595c60ab-1abf-450f-b282-be166557de7c",
   "metadata": {},
   "outputs": [
    {
     "data": {
      "text/plain": [
       "25"
      ]
     },
     "execution_count": 132,
     "metadata": {},
     "output_type": "execute_result"
    }
   ],
   "source": [
    "a.size"
   ]
  },
  {
   "cell_type": "code",
   "execution_count": 134,
   "id": "2d2bae0a-7eb5-4a5e-b7f8-4002dc289b48",
   "metadata": {},
   "outputs": [
    {
     "data": {
      "text/plain": [
       "(5, 5)"
      ]
     },
     "execution_count": 134,
     "metadata": {},
     "output_type": "execute_result"
    }
   ],
   "source": [
    "a.shape"
   ]
  },
  {
   "cell_type": "code",
   "execution_count": 136,
   "id": "3f503206-8865-4cbf-a74d-9efef4492f75",
   "metadata": {},
   "outputs": [
    {
     "data": {
      "text/plain": [
       "4"
      ]
     },
     "execution_count": 136,
     "metadata": {},
     "output_type": "execute_result"
    }
   ],
   "source": [
    "a.itemsize"
   ]
  },
  {
   "cell_type": "code",
   "execution_count": 138,
   "id": "99866e32-283c-44c9-a035-2b60e8addbca",
   "metadata": {},
   "outputs": [
    {
     "data": {
      "text/plain": [
       "2"
      ]
     },
     "execution_count": 138,
     "metadata": {},
     "output_type": "execute_result"
    }
   ],
   "source": [
    "a.ndim"
   ]
  },
  {
   "cell_type": "code",
   "execution_count": 140,
   "id": "0f622ef7-17b3-4af9-a94b-1d3ef9615446",
   "metadata": {},
   "outputs": [
    {
     "data": {
      "text/plain": [
       "100"
      ]
     },
     "execution_count": 140,
     "metadata": {},
     "output_type": "execute_result"
    }
   ],
   "source": [
    "a.nbytes"
   ]
  },
  {
   "cell_type": "code",
   "execution_count": 145,
   "id": "21e8a5be-2eba-4533-bd6c-78c5d4e12c58",
   "metadata": {},
   "outputs": [
    {
     "name": "stdout",
     "output_type": "stream",
     "text": [
      "[1 2]\n",
      "[3 4]\n",
      "[5 6]\n"
     ]
    }
   ],
   "source": [
    "a = np.array([[1, 2], [3, 4], [5, 6]])\n",
    "for ele in a:\n",
    "    print(ele)\n"
   ]
  },
  {
   "cell_type": "code",
   "execution_count": null,
   "id": "7a755a91-0eac-4322-837a-011dc4b6608b",
   "metadata": {},
   "outputs": [],
   "source": [
    "for ele in a:\n",
    "    for item in ele:\n",
    "        print(str(item) + \" \", end=\"\")\n"
   ]
  },
  {
   "cell_type": "code",
   "execution_count": 153,
   "id": "9f8d0ee4-977e-4ee0-bafe-788872ea3277",
   "metadata": {},
   "outputs": [
    {
     "data": {
      "text/plain": [
       "array([[[ 0,  1],\n",
       "        [ 2,  3]],\n",
       "\n",
       "       [[ 4,  5],\n",
       "        [ 6,  7]],\n",
       "\n",
       "       [[ 8,  9],\n",
       "        [10, 11]],\n",
       "\n",
       "       [[12, 13],\n",
       "        [14, 15]]])"
      ]
     },
     "execution_count": 153,
     "metadata": {},
     "output_type": "execute_result"
    }
   ],
   "source": [
    "a"
   ]
  },
  {
   "cell_type": "code",
   "execution_count": 159,
   "id": "1cb7be8a-abfb-45ec-afd9-35501bb76fee",
   "metadata": {},
   "outputs": [],
   "source": [
    "a = np.arange(2, 11, 2)"
   ]
  },
  {
   "cell_type": "code",
   "execution_count": 161,
   "id": "fc8e2a8e-1400-4ac5-9714-406f34f9aee7",
   "metadata": {},
   "outputs": [
    {
     "data": {
      "text/plain": [
       "array([ 2,  4,  6,  8, 10])"
      ]
     },
     "execution_count": 161,
     "metadata": {},
     "output_type": "execute_result"
    }
   ],
   "source": [
    "a\n"
   ]
  },
  {
   "cell_type": "code",
   "execution_count": 163,
   "id": "4b238ca1-c80c-46f0-8e91-6bae71150444",
   "metadata": {},
   "outputs": [
    {
     "data": {
      "text/plain": [
       "array([1., 2., 3., 4., 5.])"
      ]
     },
     "execution_count": 163,
     "metadata": {},
     "output_type": "execute_result"
    }
   ],
   "source": [
    "a / 2"
   ]
  },
  {
   "cell_type": "code",
   "execution_count": 165,
   "id": "0bd79715-2cce-4ca8-a989-b6cae511db8b",
   "metadata": {},
   "outputs": [
    {
     "data": {
      "text/plain": [
       "array([1, 2, 3, 4, 5], dtype=int32)"
      ]
     },
     "execution_count": 165,
     "metadata": {},
     "output_type": "execute_result"
    }
   ],
   "source": [
    "a // 2"
   ]
  },
  {
   "cell_type": "code",
   "execution_count": 167,
   "id": "0dd67384-d47f-4d66-adeb-00de811c77a4",
   "metadata": {},
   "outputs": [
    {
     "data": {
      "text/plain": [
       "array([0, 0, 0, 0, 0], dtype=int32)"
      ]
     },
     "execution_count": 167,
     "metadata": {},
     "output_type": "execute_result"
    }
   ],
   "source": [
    "a % 2"
   ]
  },
  {
   "cell_type": "code",
   "execution_count": 169,
   "id": "4da2117b-a4ee-4425-9fab-99430c022a96",
   "metadata": {},
   "outputs": [
    {
     "data": {
      "text/plain": [
       "array([2, 1, 0, 2, 1], dtype=int32)"
      ]
     },
     "execution_count": 169,
     "metadata": {},
     "output_type": "execute_result"
    }
   ],
   "source": [
    "a % 3"
   ]
  },
  {
   "cell_type": "code",
   "execution_count": 179,
   "id": "a233de49-3d21-469b-a8f8-655d7ca61ba5",
   "metadata": {},
   "outputs": [],
   "source": [
    "a = np.array([1, 2, 3]) \n",
    "s = np.array([4, 5, 6, 7])  "
   ]
  },
  {
   "cell_type": "code",
   "execution_count": 181,
   "id": "1255192a-ea40-457d-a74e-cf627a7807cf",
   "metadata": {},
   "outputs": [
    {
     "ename": "ValueError",
     "evalue": "operands could not be broadcast together with shapes (3,) (4,) ",
     "output_type": "error",
     "traceback": [
      "\u001b[1;31m---------------------------------------------------------------------------\u001b[0m",
      "\u001b[1;31mValueError\u001b[0m                                Traceback (most recent call last)",
      "Cell \u001b[1;32mIn[181], line 1\u001b[0m\n\u001b[1;32m----> 1\u001b[0m b \u001b[38;5;241m=\u001b[39m a \u001b[38;5;241m+\u001b[39m s       \n\u001b[0;32m      2\u001b[0m b\n",
      "\u001b[1;31mValueError\u001b[0m: operands could not be broadcast together with shapes (3,) (4,) "
     ]
    }
   ],
   "source": [
    "b = a + s       \n",
    "b"
   ]
  },
  {
   "cell_type": "code",
   "execution_count": null,
   "id": "d56246c9-78cc-4d2c-b3e9-8a3889a3d8c8",
   "metadata": {},
   "outputs": [],
   "source": [
    "b = a - s       "
   ]
  },
  {
   "cell_type": "code",
   "execution_count": 175,
   "id": "4acde7d3-e242-44ec-9a87-ed073ce2e51b",
   "metadata": {},
   "outputs": [
    {
     "data": {
      "text/plain": [
       "array([ 4, 10, 18])"
      ]
     },
     "execution_count": 175,
     "metadata": {},
     "output_type": "execute_result"
    }
   ],
   "source": [
    "b = a * s     \n",
    "b"
   ]
  },
  {
   "cell_type": "code",
   "execution_count": 177,
   "id": "e08daf4b-cf92-4f8e-8556-001bb7bdd67f",
   "metadata": {},
   "outputs": [
    {
     "data": {
      "text/plain": [
       "array([0.25, 0.4 , 0.5 ])"
      ]
     },
     "execution_count": 177,
     "metadata": {},
     "output_type": "execute_result"
    }
   ],
   "source": [
    "b = a / s       \n",
    "b"
   ]
  },
  {
   "attachments": {},
   "cell_type": "markdown",
   "id": "daa08fb7-4d11-410a-92b1-555373ee67ca",
   "metadata": {},
   "source": [
    "# 向量的點積運算"
   ]
  },
  {
   "cell_type": "code",
   "execution_count": 184,
   "id": "48364c4c-0b74-409a-8790-c9c21b9545ff",
   "metadata": {},
   "outputs": [
    {
     "data": {
      "text/plain": [
       "array([1, 2, 3])"
      ]
     },
     "execution_count": 184,
     "metadata": {},
     "output_type": "execute_result"
    }
   ],
   "source": [
    "a = np.array([1, 2, 3]) \n",
    "a"
   ]
  },
  {
   "cell_type": "code",
   "execution_count": 186,
   "id": "9ecea4be-d479-4fcc-a6e8-91246e2a40c8",
   "metadata": {},
   "outputs": [
    {
     "data": {
      "text/plain": [
       "array([4, 5, 6])"
      ]
     },
     "execution_count": 186,
     "metadata": {},
     "output_type": "execute_result"
    }
   ],
   "source": [
    "s = np.array([4, 5, 6])  \n",
    "s"
   ]
  },
  {
   "cell_type": "code",
   "execution_count": 188,
   "id": "429d9ff0-ecf5-4e93-8f57-2a9a1b1c6166",
   "metadata": {},
   "outputs": [
    {
     "data": {
      "text/plain": [
       "32"
      ]
     },
     "execution_count": 188,
     "metadata": {},
     "output_type": "execute_result"
    }
   ],
   "source": [
    "b = a.dot(s)\n",
    "b"
   ]
  },
  {
   "cell_type": "code",
   "execution_count": 190,
   "id": "d403e49b-6f8c-4455-bd1b-d8648c83cb27",
   "metadata": {},
   "outputs": [
    {
     "data": {
      "text/plain": [
       "array([3, 4, 5, 6, 7])"
      ]
     },
     "execution_count": 190,
     "metadata": {},
     "output_type": "execute_result"
    }
   ],
   "source": [
    "a = np.array([1, 2, 3, 4, 5, 6, 7, 8, 9])\n",
    "b = a[2:-2]\n",
    "b"
   ]
  },
  {
   "cell_type": "markdown",
   "id": "68b06b83-77da-402b-b63c-358d695b01ef",
   "metadata": {},
   "source": [
    "# 矩陣相乘(dot product)"
   ]
  },
  {
   "cell_type": "code",
   "execution_count": 199,
   "id": "5bcfb921-df4d-4024-873b-050cb6280623",
   "metadata": {},
   "outputs": [],
   "source": [
    "a = np.array([[1,2],[3,4]])\n",
    "s = np.array([[5,6],[7,8]])"
   ]
  },
  {
   "cell_type": "code",
   "execution_count": 201,
   "id": "a85527e2-d9f4-497b-aff3-75316d8fee64",
   "metadata": {},
   "outputs": [
    {
     "data": {
      "text/plain": [
       "array([[19, 22],\n",
       "       [43, 50]])"
      ]
     },
     "execution_count": 201,
     "metadata": {},
     "output_type": "execute_result"
    }
   ],
   "source": [
    "b = a.dot(s)\n",
    "b"
   ]
  },
  {
   "cell_type": "code",
   "execution_count": 203,
   "id": "e6fff956-122b-4afe-9c60-9f4aeb3b0bc8",
   "metadata": {},
   "outputs": [
    {
     "data": {
      "text/plain": [
       "array([[23, 34],\n",
       "       [31, 46]])"
      ]
     },
     "execution_count": 203,
     "metadata": {},
     "output_type": "execute_result"
    }
   ],
   "source": [
    "c = s.dot(a)\n",
    "c"
   ]
  },
  {
   "cell_type": "code",
   "execution_count": 205,
   "id": "1ea85c32-e7e0-4d32-a17d-a5aceefc8213",
   "metadata": {},
   "outputs": [
    {
     "data": {
      "text/plain": [
       "array([[1, 2],\n",
       "       [3, 4]])"
      ]
     },
     "execution_count": 205,
     "metadata": {},
     "output_type": "execute_result"
    }
   ],
   "source": [
    "a = np.array([[1,2],[3,4]])\n",
    "a"
   ]
  },
  {
   "cell_type": "code",
   "execution_count": 209,
   "id": "5cc73e57-7f59-473f-887a-d0bf4171fb95",
   "metadata": {},
   "outputs": [
    {
     "data": {
      "text/plain": [
       "array([[5],\n",
       "       [6]])"
      ]
     },
     "execution_count": 209,
     "metadata": {},
     "output_type": "execute_result"
    }
   ],
   "source": [
    "s = np.array([[5],[6]])\n",
    "s"
   ]
  },
  {
   "cell_type": "code",
   "execution_count": 211,
   "id": "b647cfce-09c3-4d63-acd9-8bb97c4ccd4c",
   "metadata": {},
   "outputs": [
    {
     "data": {
      "text/plain": [
       "array([[17],\n",
       "       [39]])"
      ]
     },
     "execution_count": 211,
     "metadata": {},
     "output_type": "execute_result"
    }
   ],
   "source": [
    "a.dot(s)"
   ]
  },
  {
   "cell_type": "code",
   "execution_count": 215,
   "id": "494a3f87-e7c0-4964-bccf-6f3040a3a935",
   "metadata": {},
   "outputs": [
    {
     "data": {
      "text/plain": [
       "array([[23, 34]])"
      ]
     },
     "execution_count": 215,
     "metadata": {},
     "output_type": "execute_result"
    }
   ],
   "source": [
    "s.transpose().dot(a)"
   ]
  },
  {
   "cell_type": "code",
   "execution_count": 217,
   "id": "808873da-9add-4ed8-a490-827aca1d763f",
   "metadata": {},
   "outputs": [
    {
     "data": {
      "text/plain": [
       "array([[5],\n",
       "       [6]])"
      ]
     },
     "execution_count": 217,
     "metadata": {},
     "output_type": "execute_result"
    }
   ],
   "source": [
    "s"
   ]
  },
  {
   "cell_type": "code",
   "execution_count": 221,
   "id": "8c86d276-4665-4738-914c-45128bf562d6",
   "metadata": {},
   "outputs": [
    {
     "data": {
      "text/plain": [
       "array([[5, 6]])"
      ]
     },
     "execution_count": 221,
     "metadata": {},
     "output_type": "execute_result"
    }
   ],
   "source": [
    "s.transpose()"
   ]
  },
  {
   "cell_type": "code",
   "execution_count": null,
   "id": "3140d59e-b181-43bb-9892-a45e08e375f9",
   "metadata": {},
   "outputs": [],
   "source": []
  }
 ],
 "metadata": {
  "kernelspec": {
   "display_name": "Python 3 (ipykernel)",
   "language": "python",
   "name": "python3"
  },
  "language_info": {
   "codemirror_mode": {
    "name": "ipython",
    "version": 3
   },
   "file_extension": ".py",
   "mimetype": "text/x-python",
   "name": "python",
   "nbconvert_exporter": "python",
   "pygments_lexer": "ipython3",
   "version": "3.11.7"
  }
 },
 "nbformat": 4,
 "nbformat_minor": 5
}
